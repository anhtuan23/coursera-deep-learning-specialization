{
 "cells": [
  {
   "cell_type": "markdown",
   "metadata": {},
   "source": [
    "# Convolutional Neural Networks: Application\n",
    "\n",
    "Welcome to Course 4's second assignment! In this notebook, you will:\n",
    "\n",
    "- Create a mood classifer using the TF Keras Sequential API\n",
    "- Build a ConvNet to identify sign language digits using the TF Keras Functional API\n",
    "\n",
    "**After this assignment you will be able to:**\n",
    "\n",
    "- Build and train a ConvNet in TensorFlow for a __binary__ classification problem\n",
    "- Build and train a ConvNet in TensorFlow for a __multiclass__ classification problem\n",
    "- Explain different use cases for the Sequential and Functional APIs\n",
    "\n",
    "To complete this assignment, you should already be familiar with TensorFlow. If you are not, please refer back to the **TensorFlow Tutorial** of the third week of Course 2 (\"**Improving deep neural networks**\")."
   ]
  },
  {
   "cell_type": "markdown",
   "metadata": {},
   "source": [
    "## Table of Contents\n",
    "\n",
    "- [1 - Packages](#1)\n",
    "    - [1.1 - Load the Data and Split the Data into Train/Test Sets](#1-1)\n",
    "- [2 - Layers in TF Keras](#2)\n",
    "- [3 - The Sequential API](#3)\n",
    "    - [3.1 - Create the Sequential Model](#3-1)\n",
    "        - [Exercise 1 - happyModel](#ex-1)\n",
    "    - [3.2 - Train and Evaluate the Model](#3-2)\n",
    "- [4 - The Functional API](#4)\n",
    "    - [4.1 - Load the SIGNS Dataset](#4-1)\n",
    "    - [4.2 - Split the Data into Train/Test Sets](#4-2)\n",
    "    - [4.3 - Forward Propagation](#4-3)\n",
    "        - [Exercise 2 - convolutional_model](#ex-2)\n",
    "    - [4.4 - Train the Model](#4-4)\n",
    "- [5 - History Object](#5)\n",
    "- [6 - Bibliography](#6)"
   ]
  },
  {
   "cell_type": "markdown",
   "metadata": {},
   "source": [
    "<a name='1'></a>\n",
    "## 1 - Packages\n",
    "\n",
    "As usual, begin by loading in the packages."
   ]
  },
  {
   "cell_type": "code",
   "execution_count": 1,
   "metadata": {},
   "outputs": [],
   "source": [
    "import math\n",
    "import numpy as np\n",
    "import h5py\n",
    "import matplotlib.pyplot as plt\n",
    "from matplotlib.pyplot import imread\n",
    "import scipy\n",
    "from PIL import Image\n",
    "import pandas as pd\n",
    "import tensorflow as tf\n",
    "import tensorflow.keras.layers as tfl\n",
    "from tensorflow.python.framework import ops\n",
    "from cnn_utils import *\n",
    "from test_utils import summary, comparator\n",
    "\n",
    "%matplotlib inline\n",
    "np.random.seed(1)"
   ]
  },
  {
   "cell_type": "markdown",
   "metadata": {},
   "source": [
    "<a name='1-1'></a>\n",
    "### 1.1 - Load the Data and Split the Data into Train/Test Sets\n",
    "\n",
    "You'll be using the Happy House dataset for this part of the assignment, which contains images of peoples' faces. Your task will be to build a ConvNet that determines whether the people in the images are smiling or not -- because they only get to enter the house if they're smiling!  "
   ]
  },
  {
   "cell_type": "code",
   "execution_count": 2,
   "metadata": {},
   "outputs": [
    {
     "name": "stdout",
     "output_type": "stream",
     "text": [
      "number of training examples = 600\n",
      "number of test examples = 150\n",
      "X_train shape: (600, 64, 64, 3)\n",
      "Y_train shape: (600, 1)\n",
      "X_test shape: (150, 64, 64, 3)\n",
      "Y_test shape: (150, 1)\n"
     ]
    }
   ],
   "source": [
    "X_train_orig, Y_train_orig, X_test_orig, Y_test_orig, classes = load_happy_dataset()\n",
    "\n",
    "# Normalize image vectors\n",
    "X_train = X_train_orig/255.\n",
    "X_test = X_test_orig/255.\n",
    "\n",
    "# Reshape\n",
    "Y_train = Y_train_orig.T\n",
    "Y_test = Y_test_orig.T\n",
    "\n",
    "print (\"number of training examples = \" + str(X_train.shape[0]))\n",
    "print (\"number of test examples = \" + str(X_test.shape[0]))\n",
    "print (\"X_train shape: \" + str(X_train.shape))\n",
    "print (\"Y_train shape: \" + str(Y_train.shape))\n",
    "print (\"X_test shape: \" + str(X_test.shape))\n",
    "print (\"Y_test shape: \" + str(Y_test.shape))"
   ]
  },
  {
   "cell_type": "markdown",
   "metadata": {},
   "source": [
    "You can display the images contained in the dataset. Images are **64x64** pixels in RGB format (3 channels)."
   ]
  },
  {
   "cell_type": "code",
   "execution_count": 3,
   "metadata": {},
   "outputs": [
    {
     "data": {
      "image/png": "[encoded data removed]",
      "text/plain": [
       "<Figure size 432x288 with 1 Axes>"
      ]
     },
     "metadata": {
      "needs_background": "light"
     },
     "output_type": "display_data"
    }
   ],
   "source": [
    "index = 124\n",
    "plt.imshow(X_train_orig[index]) #display sample training image\n",
    "plt.show()"
   ]
  },
  {
   "cell_type": "markdown",
   "metadata": {},
   "source": [
    "<a name='2'></a>\n",
    "## 2 - Layers in TF Keras \n",
    "\n",
    "In the previous assignment, you created layers manually in numpy. In TF Keras, you don't have to write code directly to create layers. Rather, TF Keras has pre-defined layers you can use. \n",
    "\n",
    "When you create a layer in TF Keras, you are creating a function that takes some input and transforms it into an output you can reuse later. Nice and easy! "
   ]
  },
  {
   "cell_type": "markdown",
   "metadata": {},
   "source": [
    "<a name='3'></a>\n",
    "## 3 - The Sequential API\n",
    "\n",
    "In the previous assignment, you built helper functions using `numpy` to understand the mechanics behind convolutional neural networks. Most practical applications of deep learning today are built using programming frameworks, which have many built-in functions you can simply call. Keras is a high-level abstraction built on top of TensorFlow, which allows for even more simplified and optimized model creation and training. \n",
    "\n",
    "For the first part of this assignment, you'll create a model using TF Keras' Sequential API, which allows you to build layer by layer, and is ideal for building models where each layer has **exactly one** input tensor and **one** output tensor. \n",
    "\n",
    "As you'll see, using the Sequential API is simple and straightforward, but is only appropriate for simpler, more straightforward tasks. Later in this notebook you'll spend some time building with a more flexible, powerful alternative: the Functional API. \n",
    " "
   ]
  },
  {
   "cell_type": "markdown",
   "metadata": {},
   "source": [
    "<a name='3-1'></a>\n",
    "### 3.1 - Create the Sequential Model\n",
    "\n",
    "As mentioned earlier, the TensorFlow Keras Sequential API can be used to build simple models with layer operations that proceed in a sequential order. \n",
    "\n",
    "You can also add layers incrementally to a Sequential model with the `.add()` method, or remove them using the `.pop()` method, much like you would in a regular Python list.\n",
    "\n",
    "Actually, you can think of a Sequential model as behaving like a list of layers. Like Python lists, Sequential layers are ordered, and the order in which they are specified matters.  If your model is non-linear or contains layers with multiple inputs or outputs, a Sequential model wouldn't be the right choice!\n",
    "\n",
    "For any layer construction in Keras, you'll need to specify the input shape in advance. This is because in Keras, the shape of the weights is based on the shape of the inputs. The weights are only created when the model first sees some input data. Sequential models can be created by passing a list of layers to the Sequential constructor, like you will do in the next assignment.\n",
    "\n",
    "<a name='ex-1'></a>\n",
    "### Exercise 1 - happyModel\n",
    "\n",
    "Implement the `happyModel` function below to build the following model: `ZEROPAD2D -> CONV2D -> BATCHNORM -> RELU -> MAXPOOL -> FLATTEN -> DENSE`. Take help from [tf.keras.layers](https://www.tensorflow.org/api_docs/python/tf/keras/layers) \n",
    "\n",
    "Also, plug in the following parameters for all the steps:\n",
    "\n",
    " - [ZeroPadding2D](https://www.tensorflow.org/api_docs/python/tf/keras/layers/ZeroPadding2D): padding 3, input shape 64 x 64 x 3\n",
    " - [Conv2D](https://www.tensorflow.org/api_docs/python/tf/keras/layers/Conv2D): Use 32 7x7 filters, stride 1\n",
    " - [BatchNormalization](https://www.tensorflow.org/api_docs/python/tf/keras/layers/BatchNormalization): for axis 3\n",
    " - [ReLU](https://www.tensorflow.org/api_docs/python/tf/keras/layers/ReLU)\n",
    " - [MaxPool2D](https://www.tensorflow.org/api_docs/python/tf/keras/layers/MaxPool2D): Using default parameters\n",
    " - [Flatten](https://www.tensorflow.org/api_docs/python/tf/keras/layers/Flatten) the previous output.\n",
    " - Fully-connected ([Dense](https://www.tensorflow.org/api_docs/python/tf/keras/layers/Dense)) layer: Apply a fully connected layer with 1 neuron and a sigmoid activation. \n",
    " \n",
    " \n",
    " **Hint:**\n",
    " \n",
    " Use **tfl** as shorthand for **tensorflow.keras.layers**"
   ]
  },
  {
   "cell_type": "code",
   "execution_count": 4,
   "metadata": {
    "deletable": false,
    "nbgrader": {
     "cell_type": "code",
     "checksum": "95d28b191f257bdd5b70c7b8952559d5",
     "grade": false,
     "grade_id": "cell-0e56d3fc28b69aec",
     "locked": false,
     "schema_version": 3,
     "solution": true,
     "task": false
    }
   },
   "outputs": [],
   "source": [
    "# GRADED FUNCTION: happyModel\n",
    "\n",
    "def happyModel():\n",
    "    \"\"\"\n",
    "    Implements the forward propagation for the binary classification model:\n",
    "    ZEROPAD2D -> CONV2D -> BATCHNORM -> RELU -> MAXPOOL -> FLATTEN -> DENSE\n",
    "    \n",
    "    Note that for simplicity and grading purposes, you'll hard-code all the values\n",
    "    such as the stride and kernel (filter) sizes. \n",
    "    Normally, functions should take these values as function parameters.\n",
    "    \n",
    "    Arguments:\n",
    "    None\n",
    "\n",
    "    Returns:\n",
    "    model -- TF Keras model (object containing the information for the entire training process) \n",
    "    \"\"\"\n",
    "    model = tf.keras.Sequential([\n",
    "            tf.keras.Input(shape=(64 , 64 ,3)),\n",
    "            ## ZeroPadding2D with padding 3, input shape of 64 x 64 x 3\n",
    "            tfl.ZeroPadding2D(padding=3),\n",
    "            ## Conv2D with 32 7x7 filters and stride of 1\n",
    "            tfl.Conv2D(filters=32,kernel_size=7, strides=1),\n",
    "            ## BatchNormalization for axis 3\n",
    "            tfl.BatchNormalization(axis=3),\n",
    "            ## ReLU\n",
    "            tfl.ReLU(),\n",
    "            ## Max Pooling 2D with default parameters\n",
    "            tfl.MaxPool2D(),\n",
    "            ## Flatten layer\n",
    "            tfl.Flatten(),\n",
    "            ## Dense layer with 1 unit for output & 'sigmoid' activation\n",
    "            tfl.Dense(units=1, activation='sigmoid'),\n",
    "        ])\n",
    "    \n",
    "    return model"
   ]
  },
  {
   "cell_type": "code",
   "execution_count": 5,
   "metadata": {
    "deletable": false,
    "editable": false,
    "nbgrader": {
     "cell_type": "code",
     "checksum": "8d3575c950e2e78149be2d05d671c80d",
     "grade": true,
     "grade_id": "cell-e3e1046e5c33d775",
     "locked": true,
     "points": 10,
     "schema_version": 3,
     "solution": false,
     "task": false
    }
   },
   "outputs": [
    {
     "name": "stdout",
     "output_type": "stream",
     "text": [
      "Metal device set to: Apple M1\n",
      "\n",
      "systemMemory: 16.00 GB\n",
      "maxCacheSize: 5.33 GB\n",
      "\n"
     ]
    },
    {
     "name": "stderr",
     "output_type": "stream",
     "text": [
      "2022-03-09 23:01:29.172138: I tensorflow/core/common_runtime/pluggable_device/pluggable_device_factory.cc:305] Could not identify NUMA node of platform GPU ID 0, defaulting to 0. Your kernel may not have been built with NUMA support.\n",
      "2022-03-09 23:01:29.172540: I tensorflow/core/common_runtime/pluggable_device/pluggable_device_factory.cc:271] Created TensorFlow device (/job:localhost/replica:0/task:0/device:GPU:0 with 0 MB memory) -> physical PluggableDevice (device: 0, name: METAL, pci bus id: <undefined>)\n"
     ]
    },
    {
     "name": "stdout",
     "output_type": "stream",
     "text": [
      "['ZeroPadding2D', (None, 70, 70, 3), 0, ((3, 3), (3, 3))]\n",
      "['Conv2D', (None, 64, 64, 32), 4736, 'valid', 'linear', 'GlorotUniform']\n",
      "['BatchNormalization', (None, 64, 64, 32), 128]\n",
      "['ReLU', (None, 64, 64, 32), 0]\n",
      "['MaxPooling2D', (None, 32, 32, 32), 0, (2, 2), (2, 2), 'valid']\n",
      "['Flatten', (None, 32768), 0]\n",
      "['Dense', (None, 1), 32769, 'sigmoid']\n",
      "\u001b[32mAll tests passed!\u001b[0m\n"
     ]
    }
   ],
   "source": [
    "happy_model = happyModel()\n",
    "# Print a summary for each layer\n",
    "for layer in summary(happy_model):\n",
    "    print(layer)\n",
    "    \n",
    "output = [['ZeroPadding2D', (None, 70, 70, 3), 0, ((3, 3), (3, 3))],\n",
    "            ['Conv2D', (None, 64, 64, 32), 4736, 'valid', 'linear', 'GlorotUniform'],\n",
    "            ['BatchNormalization', (None, 64, 64, 32), 128],\n",
    "            ['ReLU', (None, 64, 64, 32), 0],\n",
    "            ['MaxPooling2D', (None, 32, 32, 32), 0, (2, 2), (2, 2), 'valid'],\n",
    "            ['Flatten', (None, 32768), 0],\n",
    "            ['Dense', (None, 1), 32769, 'sigmoid']]\n",
    "    \n",
    "comparator(summary(happy_model), output)"
   ]
  },
  {
   "cell_type": "markdown",
   "metadata": {},
   "source": [
    "Now that your model is created, you can compile it for training with an optimizer and loss of your choice. When the string `accuracy` is specified as a metric, the type of accuracy used will be automatically converted based on the loss function used. This is one of the many optimizations built into TensorFlow that make your life easier! If you'd like to read more on how the compiler operates, check the docs [here](https://www.tensorflow.org/api_docs/python/tf/keras/Model#compile)."
   ]
  },
  {
   "cell_type": "code",
   "execution_count": 6,
   "metadata": {},
   "outputs": [],
   "source": [
    "happy_model.compile(optimizer='adam',\n",
    "                   loss='binary_crossentropy',\n",
    "                   metrics=['accuracy'])"
   ]
  },
  {
   "cell_type": "markdown",
   "metadata": {},
   "source": [
    "It's time to check your model's parameters with the `.summary()` method. This will display the types of layers you have, the shape of the outputs, and how many parameters are in each layer. "
   ]
  },
  {
   "cell_type": "code",
   "execution_count": 7,
   "metadata": {},
   "outputs": [
    {
     "name": "stdout",
     "output_type": "stream",
     "text": [
      "Model: \"sequential\"\n",
      "_________________________________________________________________\n",
      " Layer (type)                Output Shape              Param #   \n",
      "=================================================================\n",
      " zero_padding2d (ZeroPadding  (None, 70, 70, 3)        0         \n",
      " 2D)                                                             \n",
      "                                                                 \n",
      " conv2d (Conv2D)             (None, 64, 64, 32)        4736      \n",
      "                                                                 \n",
      " batch_normalization (BatchN  (None, 64, 64, 32)       128       \n",
      " ormalization)                                                   \n",
      "                                                                 \n",
      " re_lu (ReLU)                (None, 64, 64, 32)        0         \n",
      "                                                                 \n",
      " max_pooling2d (MaxPooling2D  (None, 32, 32, 32)       0         \n",
      " )                                                               \n",
      "                                                                 \n",
      " flatten (Flatten)           (None, 32768)             0         \n",
      "                                                                 \n",
      " dense (Dense)               (None, 1)                 32769     \n",
      "                                                                 \n",
      "=================================================================\n",
      "Total params: 37,633\n",
      "Trainable params: 37,569\n",
      "Non-trainable params: 64\n",
      "_________________________________________________________________\n"
     ]
    }
   ],
   "source": [
    "happy_model.summary()"
   ]
  },
  {
   "cell_type": "markdown",
   "metadata": {},
   "source": [
    "<a name='3-2'></a>\n",
    "### 3.2 - Train and Evaluate the Model\n",
    "\n",
    "After creating the model, compiling it with your choice of optimizer and loss function, and doing a sanity check on its contents, you are now ready to build! \n",
    "\n",
    "Simply call `.fit()` to train. That's it! No need for mini-batching, saving, or complex backpropagation computations. That's all been done for you, as you're using a TensorFlow dataset with the batches specified already. You do have the option to specify epoch number or minibatch size if you like (for example, in the case of an un-batched dataset)."
   ]
  },
  {
   "cell_type": "code",
   "execution_count": 8,
   "metadata": {},
   "outputs": [
    {
     "name": "stdout",
     "output_type": "stream",
     "text": [
      "Epoch 1/10\n"
     ]
    },
    {
     "name": "stderr",
     "output_type": "stream",
     "text": [
      "2022-03-09 23:01:29.780455: W tensorflow/core/platform/profile_utils/cpu_utils.cc:128] Failed to get CPU frequency: 0 Hz\n",
      "2022-03-09 23:01:30.017934: I tensorflow/core/grappler/optimizers/custom_graph_optimizer_registry.cc:113] Plugin optimizer for device_type GPU is enabled.\n"
     ]
    },
    {
     "name": "stdout",
     "output_type": "stream",
     "text": [
      "38/38 [==============================] - 4s 28ms/step - loss: 1.1695 - accuracy: 0.7400\n",
      "Epoch 2/10\n",
      "38/38 [==============================] - 1s 15ms/step - loss: 0.2896 - accuracy: 0.8833\n",
      "Epoch 3/10\n",
      "38/38 [==============================] - 1s 15ms/step - loss: 0.1813 - accuracy: 0.9233\n",
      "Epoch 4/10\n",
      "38/38 [==============================] - 1s 14ms/step - loss: 0.1536 - accuracy: 0.9450\n",
      "Epoch 5/10\n",
      "38/38 [==============================] - 1s 17ms/step - loss: 0.0815 - accuracy: 0.9767\n",
      "Epoch 6/10\n",
      "38/38 [==============================] - 1s 15ms/step - loss: 0.0969 - accuracy: 0.9567\n",
      "Epoch 7/10\n",
      "38/38 [==============================] - 1s 15ms/step - loss: 0.1091 - accuracy: 0.9550\n",
      "Epoch 8/10\n",
      "38/38 [==============================] - 1s 15ms/step - loss: 0.1018 - accuracy: 0.9683\n",
      "Epoch 9/10\n",
      "38/38 [==============================] - 1s 15ms/step - loss: 0.0946 - accuracy: 0.9700\n",
      "Epoch 10/10\n",
      "38/38 [==============================] - 1s 15ms/step - loss: 0.0536 - accuracy: 0.9867\n"
     ]
    },
    {
     "data": {
      "text/plain": [
       "<keras.callbacks.History at 0x16d4b8580>"
      ]
     },
     "execution_count": 8,
     "metadata": {},
     "output_type": "execute_result"
    }
   ],
   "source": [
    "happy_model.fit(X_train, Y_train, epochs=10, batch_size=16)"
   ]
  },
  {
   "cell_type": "markdown",
   "metadata": {},
   "source": [
    "After that completes, just use `.evaluate()` to evaluate against your test set. This function will print the value of the loss function and the performance metrics specified during the compilation of the model. In this case, the `binary_crossentropy` and the `accuracy` respectively."
   ]
  },
  {
   "cell_type": "code",
   "execution_count": 9,
   "metadata": {},
   "outputs": [
    {
     "name": "stdout",
     "output_type": "stream",
     "text": [
      "5/5 [==============================] - 0s 19ms/step - loss: 0.1375 - accuracy: 0.9400\n"
     ]
    },
    {
     "name": "stderr",
     "output_type": "stream",
     "text": [
      "2022-03-09 23:01:38.682728: I tensorflow/core/grappler/optimizers/custom_graph_optimizer_registry.cc:113] Plugin optimizer for device_type GPU is enabled.\n"
     ]
    },
    {
     "data": {
      "text/plain": [
       "[0.13754455745220184, 0.9399999976158142]"
      ]
     },
     "execution_count": 9,
     "metadata": {},
     "output_type": "execute_result"
    }
   ],
   "source": [
    "happy_model.evaluate(X_test, Y_test)"
   ]
  },
  {
   "cell_type": "markdown",
   "metadata": {},
   "source": [
    "Easy, right? But what if you need to build a model with shared layers, branches, or multiple inputs and outputs? This is where Sequential, with its beautifully simple yet limited functionality, won't be able to help you. \n",
    "\n",
    "Next up: Enter the Functional API, your slightly more complex, highly flexible friend.  "
   ]
  },
  {
   "cell_type": "markdown",
   "metadata": {},
   "source": [
    "<a name='4'></a>\n",
    "## 4 - The Functional API"
   ]
  },
  {
   "cell_type": "markdown",
   "metadata": {},
   "source": [
    "Welcome to the second half of the assignment, where you'll use Keras' flexible [Functional API](https://www.tensorflow.org/guide/keras/functional) to build a ConvNet that can differentiate between 6 sign language digits. \n",
    "\n",
    "The Functional API can handle models with non-linear topology, shared layers, as well as layers with multiple inputs or outputs. Imagine that, where the Sequential API requires the model to move in a linear fashion through its layers, the Functional API allows much more flexibility. Where Sequential is a straight line, a Functional model is a graph, where the nodes of the layers can connect in many more ways than one. \n",
    "\n",
    "In the visual example below, the one possible direction of the movement Sequential model is shown in contrast to a skip connection, which is just one of the many ways a Functional model can be constructed. A skip connection, as you might have guessed, skips some layer in the network and feeds the output to a later layer in the network. Don't worry, you'll be spending more time with skip connections very soon! "
   ]
  },
  {
   "cell_type": "markdown",
   "metadata": {},
   "source": [
    "<img src=\"images/seq_vs_func.png\" style=\"width:350px;height:200px;\">"
   ]
  },
  {
   "cell_type": "markdown",
   "metadata": {},
   "source": [
    "<a name='4-1'></a>\n",
    "### 4.1 - Load the SIGNS Dataset\n",
    "\n",
    "As a reminder, the SIGNS dataset is a collection of 6 signs representing numbers from 0 to 5."
   ]
  },
  {
   "cell_type": "code",
   "execution_count": 12,
   "metadata": {},
   "outputs": [],
   "source": [
    "# Loading the data (signs)\n",
    "X_train_orig, Y_train_orig, X_test_orig, Y_test_orig, classes = load_signs_dataset()"
   ]
  },
  {
   "cell_type": "markdown",
   "metadata": {},
   "source": [
    "<img src=\"images/SIGNS.png\" style=\"width:800px;height:300px;\">\n",
    "\n",
    "The next cell will show you an example of a labelled image in the dataset. Feel free to change the value of `index` below and re-run to see different examples. "
   ]
  },
  {
   "cell_type": "code",
   "execution_count": 13,
   "metadata": {},
   "outputs": [
    {
     "name": "stdout",
     "output_type": "stream",
     "text": [
      "y = 1\n"
     ]
    },
    {
     "data": {
      "image/png": "[encoded data removed]",
      "text/plain": [
       "<Figure size 432x288 with 1 Axes>"
      ]
     },
     "metadata": {
      "needs_background": "light"
     },
     "output_type": "display_data"
    }
   ],
   "source": [
    "# Example of an image from the dataset\n",
    "index = 7\n",
    "plt.imshow(X_train_orig[index])\n",
    "print (\"y = \" + str(np.squeeze(Y_train_orig[:, index])))"
   ]
  },
  {
   "cell_type": "markdown",
   "metadata": {},
   "source": [
    "<a name='4-2'></a>\n",
    "### 4.2 - Split the Data into Train/Test Sets\n",
    "\n",
    "In Course 2, you built a fully-connected network for this dataset. But since this is an image dataset, it is more natural to apply a ConvNet to it.\n",
    "\n",
    "To get started, let's examine the shapes of your data. "
   ]
  },
  {
   "cell_type": "code",
   "execution_count": 14,
   "metadata": {},
   "outputs": [
    {
     "name": "stdout",
     "output_type": "stream",
     "text": [
      "number of training examples = 1080\n",
      "number of test examples = 120\n",
      "X_train shape: (1080, 64, 64, 3)\n",
      "Y_train shape: (1080, 6)\n",
      "X_test shape: (120, 64, 64, 3)\n",
      "Y_test shape: (120, 6)\n"
     ]
    }
   ],
   "source": [
    "X_train = X_train_orig/255.\n",
    "X_test = X_test_orig/255.\n",
    "Y_train = convert_to_one_hot(Y_train_orig, 6).T\n",
    "Y_test = convert_to_one_hot(Y_test_orig, 6).T\n",
    "print (\"number of training examples = \" + str(X_train.shape[0]))\n",
    "print (\"number of test examples = \" + str(X_test.shape[0]))\n",
    "print (\"X_train shape: \" + str(X_train.shape))\n",
    "print (\"Y_train shape: \" + str(Y_train.shape))\n",
    "print (\"X_test shape: \" + str(X_test.shape))\n",
    "print (\"Y_test shape: \" + str(Y_test.shape))"
   ]
  },
  {
   "cell_type": "markdown",
   "metadata": {},
   "source": [
    "<a name='4-3'></a>\n",
    "### 4.3 - Forward Propagation\n",
    "\n",
    "In TensorFlow, there are built-in functions that implement the convolution steps for you. By now, you should be familiar with how TensorFlow builds computational graphs. In the [Functional API](https://www.tensorflow.org/guide/keras/functional), you create a graph of layers. This is what allows such great flexibility.\n",
    "\n",
    "However, the following model could also be defined using the Sequential API since the information flow is on a single line. But don't deviate. What we want you to learn is to use the functional API.\n",
    "\n",
    "Begin building your graph of layers by creating an input node that functions as a callable object:\n",
    "\n",
    "- **input_img = tf.keras.Input(shape=input_shape):** \n",
    "\n",
    "Then, create a new node in the graph of layers by calling a layer on the `input_img` object: \n",
    "\n",
    "- **tf.keras.layers.Conv2D(filters= ... , kernel_size= ... , padding='same')(input_img):** Read the full documentation on [Conv2D](https://www.tensorflow.org/api_docs/python/tf/keras/layers/Conv2D).\n",
    "\n",
    "- **tf.keras.layers.MaxPool2D(pool_size=(f, f), strides=(s, s), padding='same'):** `MaxPool2D()` downsamples your input using a window of size (f, f) and strides of size (s, s) to carry out max pooling over each window.  For max pooling, you usually operate on a single example at a time and a single channel at a time. Read the full documentation on [MaxPool2D](https://www.tensorflow.org/api_docs/python/tf/keras/layers/MaxPool2D).\n",
    "\n",
    "- **tf.keras.layers.ReLU():** computes the elementwise ReLU of Z (which can be any shape). You can read the full documentation on [ReLU](https://www.tensorflow.org/api_docs/python/tf/keras/layers/ReLU).\n",
    "\n",
    "- **tf.keras.layers.Flatten()**: given a tensor \"P\", this function takes each training (or test) example in the batch and flattens it into a 1D vector.  \n",
    "\n",
    "    * If a tensor P has the shape (batch_size,h,w,c), it returns a flattened tensor with shape (batch_size, k), where $k=h \\times w \\times c$.  \"k\" equals the product of all the dimension sizes other than the first dimension.\n",
    "    \n",
    "    * For example, given a tensor with dimensions [100, 2, 3, 4], it flattens the tensor to be of shape [100, 24], where 24 = 2 * 3 * 4.  You can read the full documentation on [Flatten](https://www.tensorflow.org/api_docs/python/tf/keras/layers/Flatten).\n",
    "\n",
    "- **tf.keras.layers.Dense(units= ... , activation='softmax')(F):** given the flattened input F, it returns the output computed using a fully connected layer. You can read the full documentation on [Dense](https://www.tensorflow.org/api_docs/python/tf/keras/layers/Dense).\n",
    "\n",
    "In the last function above (`tf.keras.layers.Dense()`), the fully connected layer automatically initializes weights in the graph and keeps on training them as you train the model. Hence, you did not need to initialize those weights when initializing the parameters.\n",
    "\n",
    "Lastly, before creating the model, you'll need to define the output using the last of the function's compositions (in this example, a Dense layer): \n",
    "\n",
    "- **outputs = tf.keras.layers.Dense(units=6, activation='softmax')(F)**\n",
    "\n",
    "\n",
    "#### Window, kernel, filter, pool\n",
    "\n",
    "The words \"kernel\" and \"filter\" are used to refer to the same thing. The word \"filter\" accounts for the amount of \"kernels\" that will be used in a single convolution layer. \"Pool\" is the name of the operation that takes the max or average value of the kernels. \n",
    "\n",
    "This is why the parameter `pool_size` refers to `kernel_size`, and you use `(f,f)` to refer to the filter size. \n",
    "\n",
    "Pool size and kernel size refer to the same thing in different objects - They refer to the shape of the window where the operation takes place. "
   ]
  },
  {
   "cell_type": "markdown",
   "metadata": {},
   "source": [
    "<a name='ex-2'></a>\n",
    "### Exercise 2 - convolutional_model\n",
    "\n",
    "Implement the `convolutional_model` function below to build the following model: `CONV2D -> RELU -> MAXPOOL -> CONV2D -> RELU -> MAXPOOL -> FLATTEN -> DENSE`. Use the functions above! \n",
    "\n",
    "Also, plug in the following parameters for all the steps:\n",
    "\n",
    " - [Conv2D](https://www.tensorflow.org/api_docs/python/tf/keras/layers/Conv2D): Use 8 4 by 4 filters, stride 1, padding is \"SAME\"\n",
    " - [ReLU](https://www.tensorflow.org/api_docs/python/tf/keras/layers/ReLU)\n",
    " - [MaxPool2D](https://www.tensorflow.org/api_docs/python/tf/keras/layers/MaxPool2D): Use an 8 by 8 filter size and an 8 by 8 stride, padding is \"SAME\"\n",
    " - **Conv2D**: Use 16 2 by 2 filters, stride 1, padding is \"SAME\"\n",
    " - **ReLU**\n",
    " - **MaxPool2D**: Use a 4 by 4 filter size and a 4 by 4 stride, padding is \"SAME\"\n",
    " - [Flatten](https://www.tensorflow.org/api_docs/python/tf/keras/layers/Flatten) the previous output.\n",
    " - Fully-connected ([Dense](https://www.tensorflow.org/api_docs/python/tf/keras/layers/Dense)) layer: Apply a fully connected layer with 6 neurons and a softmax activation. "
   ]
  },
  {
   "cell_type": "code",
   "execution_count": 15,
   "metadata": {
    "deletable": false,
    "nbgrader": {
     "cell_type": "code",
     "checksum": "f58643806aa8380c96225fc8b4c5e7aa",
     "grade": false,
     "grade_id": "cell-dac51744a9e03f51",
     "locked": false,
     "schema_version": 3,
     "solution": true,
     "task": false
    }
   },
   "outputs": [],
   "source": [
    "# GRADED FUNCTION: convolutional_model\n",
    "\n",
    "def convolutional_model(input_shape):\n",
    "    \"\"\"\n",
    "    Implements the forward propagation for the model:\n",
    "    CONV2D -> RELU -> MAXPOOL -> CONV2D -> RELU -> MAXPOOL -> FLATTEN -> DENSE\n",
    "    \n",
    "    Note that for simplicity and grading purposes, you'll hard-code some values\n",
    "    such as the stride and kernel (filter) sizes. \n",
    "    Normally, functions should take these values as function parameters.\n",
    "    \n",
    "    Arguments:\n",
    "    input_img -- input dataset, of shape (input_shape)\n",
    "\n",
    "    Returns:\n",
    "    model -- TF Keras model (object containing the information for the entire training process) \n",
    "    \"\"\"\n",
    "\n",
    "    input_img = tf.keras.Input(shape=input_shape)\n",
    "    ## CONV2D: 8 filters 4x4, stride of 1, padding 'SAME'\n",
    "    conv2d_1 = tfl.Conv2D(filters=8,kernel_size=4, strides=1,padding=\"same\")(input_img)\n",
    "    ## RELU\n",
    "    relu_1 = tfl.ReLU()(conv2d_1)\n",
    "    ## MAXPOOL: window 8x8, stride 8, padding 'SAME'\n",
    "    maxpool_1 = tfl.MaxPool2D(pool_size=8,strides=8,padding=\"same\")(relu_1)\n",
    "    ## CONV2D: 16 filters 2x2, stride 1, padding 'SAME'\n",
    "    conv_2 = tfl.Conv2D(filters=16, kernel_size=2, strides=1, padding=\"same\")(maxpool_1)\n",
    "    ## RELU\n",
    "    relu_2 = tfl.ReLU()(conv_2)\n",
    "    ## MAXPOOL: window 4x4, stride 4, padding 'SAME'\n",
    "    maxpool_2 = tfl.MaxPool2D(pool_size=4, strides=4,padding=\"same\")(relu_2)\n",
    "    ## FLATTEN\n",
    "    flatten = tfl.Flatten()(maxpool_2)\n",
    "    ## Dense layer\n",
    "    ## 6 neurons in output layer. Hint: one of the arguments should be \"activation='softmax'\" \n",
    "    outputs = tfl.Dense(units=6, activation=\"softmax\")(flatten)\n",
    "    model = tf.keras.Model(inputs=input_img, outputs=outputs)\n",
    "    return model"
   ]
  },
  {
   "cell_type": "code",
   "execution_count": 16,
   "metadata": {
    "deletable": false,
    "editable": false,
    "nbgrader": {
     "cell_type": "code",
     "checksum": "483d626949930a0b0ef20997e7c6ba72",
     "grade": true,
     "grade_id": "cell-45d22e92042174c9",
     "locked": true,
     "points": 10,
     "schema_version": 3,
     "solution": false,
     "task": false
    }
   },
   "outputs": [
    {
     "name": "stdout",
     "output_type": "stream",
     "text": [
      "Model: \"model\"\n",
      "_________________________________________________________________\n",
      " Layer (type)                Output Shape              Param #   \n",
      "=================================================================\n",
      " input_2 (InputLayer)        [(None, 64, 64, 3)]       0         \n",
      "                                                                 \n",
      " conv2d_1 (Conv2D)           (None, 64, 64, 8)         392       \n",
      "                                                                 \n",
      " re_lu_1 (ReLU)              (None, 64, 64, 8)         0         \n",
      "                                                                 \n",
      " max_pooling2d_1 (MaxPooling  (None, 8, 8, 8)          0         \n",
      " 2D)                                                             \n",
      "                                                                 \n",
      " conv2d_2 (Conv2D)           (None, 8, 8, 16)          528       \n",
      "                                                                 \n",
      " re_lu_2 (ReLU)              (None, 8, 8, 16)          0         \n",
      "                                                                 \n",
      " max_pooling2d_2 (MaxPooling  (None, 2, 2, 16)         0         \n",
      " 2D)                                                             \n",
      "                                                                 \n",
      " flatten_1 (Flatten)         (None, 64)                0         \n",
      "                                                                 \n",
      " dense_1 (Dense)             (None, 6)                 390       \n",
      "                                                                 \n",
      "=================================================================\n",
      "Total params: 1,310\n",
      "Trainable params: 1,310\n",
      "Non-trainable params: 0\n",
      "_________________________________________________________________\n",
      "\u001b[32mAll tests passed!\u001b[0m\n"
     ]
    }
   ],
   "source": [
    "conv_model = convolutional_model((64, 64, 3))\n",
    "conv_model.compile(optimizer='adam',\n",
    "                  loss='categorical_crossentropy',\n",
    "                  metrics=['accuracy'])\n",
    "conv_model.summary()\n",
    "    \n",
    "output = [['InputLayer', [(None, 64, 64, 3)], 0],\n",
    "        ['Conv2D', (None, 64, 64, 8), 392, 'same', 'linear', 'GlorotUniform'],\n",
    "        ['ReLU', (None, 64, 64, 8), 0],\n",
    "        ['MaxPooling2D', (None, 8, 8, 8), 0, (8, 8), (8, 8), 'same'],\n",
    "        ['Conv2D', (None, 8, 8, 16), 528, 'same', 'linear', 'GlorotUniform'],\n",
    "        ['ReLU', (None, 8, 8, 16), 0],\n",
    "        ['MaxPooling2D', (None, 2, 2, 16), 0, (4, 4), (4, 4), 'same'],\n",
    "        ['Flatten', (None, 64), 0],\n",
    "        ['Dense', (None, 6), 390, 'softmax']]\n",
    "    \n",
    "comparator(summary(conv_model), output)"
   ]
  },
  {
   "cell_type": "markdown",
   "metadata": {},
   "source": [
    "Both the Sequential and Functional APIs return a TF Keras model object. The only difference is how inputs are handled inside the object model! "
   ]
  },
  {
   "cell_type": "markdown",
   "metadata": {},
   "source": [
    "<a name='4-4'></a>\n",
    "### 4.4 - Train the Model"
   ]
  },
  {
   "cell_type": "code",
   "execution_count": 17,
   "metadata": {},
   "outputs": [
    {
     "name": "stdout",
     "output_type": "stream",
     "text": [
      "Epoch 1/100\n"
     ]
    },
    {
     "name": "stderr",
     "output_type": "stream",
     "text": [
      "2022-03-09 23:03:36.845797: I tensorflow/core/grappler/optimizers/custom_graph_optimizer_registry.cc:113] Plugin optimizer for device_type GPU is enabled.\n"
     ]
    },
    {
     "name": "stdout",
     "output_type": "stream",
     "text": [
      "17/17 [==============================] - 2s 45ms/step - loss: 1.8092 - accuracy: 0.1769 - val_loss: 1.7922 - val_accuracy: 0.1917\n",
      "Epoch 2/100\n",
      " 3/17 [====>.........................] - ETA: 0s - loss: 1.7904 - accuracy: 0.1875"
     ]
    },
    {
     "name": "stderr",
     "output_type": "stream",
     "text": [
      "2022-03-09 23:03:38.482377: I tensorflow/core/grappler/optimizers/custom_graph_optimizer_registry.cc:113] Plugin optimizer for device_type GPU is enabled.\n"
     ]
    },
    {
     "name": "stdout",
     "output_type": "stream",
     "text": [
      "17/17 [==============================] - 1s 37ms/step - loss: 1.7881 - accuracy: 0.1889 - val_loss: 1.7883 - val_accuracy: 0.1917\n",
      "Epoch 3/100\n",
      "17/17 [==============================] - 1s 36ms/step - loss: 1.7835 - accuracy: 0.2213 - val_loss: 1.7844 - val_accuracy: 0.2667\n",
      "Epoch 4/100\n",
      "17/17 [==============================] - 1s 36ms/step - loss: 1.7794 - accuracy: 0.2287 - val_loss: 1.7811 - val_accuracy: 0.2667\n",
      "Epoch 5/100\n",
      "17/17 [==============================] - 1s 39ms/step - loss: 1.7752 - accuracy: 0.2519 - val_loss: 1.7772 - val_accuracy: 0.3167\n",
      "Epoch 6/100\n",
      "17/17 [==============================] - 1s 37ms/step - loss: 1.7698 - accuracy: 0.3130 - val_loss: 1.7712 - val_accuracy: 0.3333\n",
      "Epoch 7/100\n",
      "17/17 [==============================] - 1s 38ms/step - loss: 1.7631 - accuracy: 0.3574 - val_loss: 1.7643 - val_accuracy: 0.3750\n",
      "Epoch 8/100\n",
      "17/17 [==============================] - 1s 37ms/step - loss: 1.7542 - accuracy: 0.3889 - val_loss: 1.7550 - val_accuracy: 0.4083\n",
      "Epoch 9/100\n",
      "17/17 [==============================] - 1s 37ms/step - loss: 1.7428 - accuracy: 0.4204 - val_loss: 1.7419 - val_accuracy: 0.4333\n",
      "Epoch 10/100\n",
      "17/17 [==============================] - 1s 38ms/step - loss: 1.7273 - accuracy: 0.4472 - val_loss: 1.7239 - val_accuracy: 0.4167\n",
      "Epoch 11/100\n",
      "17/17 [==============================] - 1s 39ms/step - loss: 1.7069 - accuracy: 0.4574 - val_loss: 1.7019 - val_accuracy: 0.4083\n",
      "Epoch 12/100\n",
      "17/17 [==============================] - 1s 37ms/step - loss: 1.6819 - accuracy: 0.4657 - val_loss: 1.6748 - val_accuracy: 0.4250\n",
      "Epoch 13/100\n",
      "17/17 [==============================] - 1s 37ms/step - loss: 1.6521 - accuracy: 0.4898 - val_loss: 1.6427 - val_accuracy: 0.4583\n",
      "Epoch 14/100\n",
      "17/17 [==============================] - 1s 40ms/step - loss: 1.6166 - accuracy: 0.4991 - val_loss: 1.6060 - val_accuracy: 0.4917\n",
      "Epoch 15/100\n",
      "17/17 [==============================] - 1s 38ms/step - loss: 1.5769 - accuracy: 0.5130 - val_loss: 1.5657 - val_accuracy: 0.5000\n",
      "Epoch 16/100\n",
      "17/17 [==============================] - 1s 37ms/step - loss: 1.5324 - accuracy: 0.5204 - val_loss: 1.5222 - val_accuracy: 0.5083\n",
      "Epoch 17/100\n",
      "17/17 [==============================] - 1s 36ms/step - loss: 1.4868 - accuracy: 0.5352 - val_loss: 1.4781 - val_accuracy: 0.5083\n",
      "Epoch 18/100\n",
      "17/17 [==============================] - 1s 37ms/step - loss: 1.4389 - accuracy: 0.5444 - val_loss: 1.4315 - val_accuracy: 0.5583\n",
      "Epoch 19/100\n",
      "17/17 [==============================] - 1s 38ms/step - loss: 1.3890 - accuracy: 0.5556 - val_loss: 1.3829 - val_accuracy: 0.5667\n",
      "Epoch 20/100\n",
      "17/17 [==============================] - 1s 37ms/step - loss: 1.3404 - accuracy: 0.5704 - val_loss: 1.3381 - val_accuracy: 0.5917\n",
      "Epoch 21/100\n",
      "17/17 [==============================] - 1s 37ms/step - loss: 1.2942 - accuracy: 0.5880 - val_loss: 1.2933 - val_accuracy: 0.5917\n",
      "Epoch 22/100\n",
      "17/17 [==============================] - 1s 38ms/step - loss: 1.2501 - accuracy: 0.6037 - val_loss: 1.2535 - val_accuracy: 0.6000\n",
      "Epoch 23/100\n",
      "17/17 [==============================] - 1s 37ms/step - loss: 1.2073 - accuracy: 0.6204 - val_loss: 1.2144 - val_accuracy: 0.6333\n",
      "Epoch 24/100\n",
      "17/17 [==============================] - 1s 37ms/step - loss: 1.1686 - accuracy: 0.6287 - val_loss: 1.1794 - val_accuracy: 0.6583\n",
      "Epoch 25/100\n",
      "17/17 [==============================] - 1s 37ms/step - loss: 1.1323 - accuracy: 0.6426 - val_loss: 1.1456 - val_accuracy: 0.6583\n",
      "Epoch 26/100\n",
      "17/17 [==============================] - 1s 37ms/step - loss: 1.0984 - accuracy: 0.6537 - val_loss: 1.1142 - val_accuracy: 0.6750\n",
      "Epoch 27/100\n",
      "17/17 [==============================] - 1s 42ms/step - loss: 1.0668 - accuracy: 0.6611 - val_loss: 1.0850 - val_accuracy: 0.6833\n",
      "Epoch 28/100\n",
      "17/17 [==============================] - 1s 38ms/step - loss: 1.0378 - accuracy: 0.6630 - val_loss: 1.0589 - val_accuracy: 0.6917\n",
      "Epoch 29/100\n",
      "17/17 [==============================] - 1s 38ms/step - loss: 1.0103 - accuracy: 0.6667 - val_loss: 1.0331 - val_accuracy: 0.6750\n",
      "Epoch 30/100\n",
      "17/17 [==============================] - 1s 38ms/step - loss: 0.9852 - accuracy: 0.6769 - val_loss: 1.0109 - val_accuracy: 0.6750\n",
      "Epoch 31/100\n",
      "17/17 [==============================] - 1s 36ms/step - loss: 0.9615 - accuracy: 0.6861 - val_loss: 0.9894 - val_accuracy: 0.6833\n",
      "Epoch 32/100\n",
      "17/17 [==============================] - 1s 37ms/step - loss: 0.9392 - accuracy: 0.6944 - val_loss: 0.9687 - val_accuracy: 0.6833\n",
      "Epoch 33/100\n",
      "17/17 [==============================] - 1s 36ms/step - loss: 0.9181 - accuracy: 0.7000 - val_loss: 0.9501 - val_accuracy: 0.6917\n",
      "Epoch 34/100\n",
      "17/17 [==============================] - 1s 36ms/step - loss: 0.8983 - accuracy: 0.7046 - val_loss: 0.9318 - val_accuracy: 0.7000\n",
      "Epoch 35/100\n",
      "17/17 [==============================] - 1s 37ms/step - loss: 0.8800 - accuracy: 0.7093 - val_loss: 0.9156 - val_accuracy: 0.7083\n",
      "Epoch 36/100\n",
      "17/17 [==============================] - 1s 38ms/step - loss: 0.8626 - accuracy: 0.7167 - val_loss: 0.8987 - val_accuracy: 0.7083\n",
      "Epoch 37/100\n",
      "17/17 [==============================] - 1s 37ms/step - loss: 0.8461 - accuracy: 0.7185 - val_loss: 0.8840 - val_accuracy: 0.7083\n",
      "Epoch 38/100\n",
      "17/17 [==============================] - 1s 38ms/step - loss: 0.8309 - accuracy: 0.7185 - val_loss: 0.8701 - val_accuracy: 0.7250\n",
      "Epoch 39/100\n",
      "17/17 [==============================] - 1s 36ms/step - loss: 0.8160 - accuracy: 0.7222 - val_loss: 0.8569 - val_accuracy: 0.7250\n",
      "Epoch 40/100\n",
      "17/17 [==============================] - 1s 42ms/step - loss: 0.8019 - accuracy: 0.7296 - val_loss: 0.8441 - val_accuracy: 0.7417\n",
      "Epoch 41/100\n",
      "17/17 [==============================] - 1s 37ms/step - loss: 0.7889 - accuracy: 0.7343 - val_loss: 0.8319 - val_accuracy: 0.7500\n",
      "Epoch 42/100\n",
      "17/17 [==============================] - 1s 36ms/step - loss: 0.7761 - accuracy: 0.7389 - val_loss: 0.8204 - val_accuracy: 0.7500\n",
      "Epoch 43/100\n",
      "17/17 [==============================] - 1s 36ms/step - loss: 0.7642 - accuracy: 0.7435 - val_loss: 0.8099 - val_accuracy: 0.7500\n",
      "Epoch 44/100\n",
      "17/17 [==============================] - 1s 37ms/step - loss: 0.7524 - accuracy: 0.7463 - val_loss: 0.7996 - val_accuracy: 0.7500\n",
      "Epoch 45/100\n",
      "17/17 [==============================] - 1s 37ms/step - loss: 0.7413 - accuracy: 0.7519 - val_loss: 0.7903 - val_accuracy: 0.7417\n",
      "Epoch 46/100\n",
      "17/17 [==============================] - 1s 36ms/step - loss: 0.7301 - accuracy: 0.7537 - val_loss: 0.7810 - val_accuracy: 0.7417\n",
      "Epoch 47/100\n",
      "17/17 [==============================] - 1s 36ms/step - loss: 0.7199 - accuracy: 0.7546 - val_loss: 0.7729 - val_accuracy: 0.7333\n",
      "Epoch 48/100\n",
      "17/17 [==============================] - 1s 36ms/step - loss: 0.7096 - accuracy: 0.7537 - val_loss: 0.7649 - val_accuracy: 0.7333\n",
      "Epoch 49/100\n",
      "17/17 [==============================] - 1s 36ms/step - loss: 0.6995 - accuracy: 0.7556 - val_loss: 0.7569 - val_accuracy: 0.7417\n",
      "Epoch 50/100\n",
      "17/17 [==============================] - 1s 36ms/step - loss: 0.6902 - accuracy: 0.7620 - val_loss: 0.7493 - val_accuracy: 0.7500\n",
      "Epoch 51/100\n",
      "17/17 [==============================] - 1s 36ms/step - loss: 0.6810 - accuracy: 0.7648 - val_loss: 0.7421 - val_accuracy: 0.7500\n",
      "Epoch 52/100\n",
      "17/17 [==============================] - 1s 37ms/step - loss: 0.6718 - accuracy: 0.7694 - val_loss: 0.7360 - val_accuracy: 0.7583\n",
      "Epoch 53/100\n",
      "17/17 [==============================] - 1s 37ms/step - loss: 0.6625 - accuracy: 0.7731 - val_loss: 0.7305 - val_accuracy: 0.7583\n",
      "Epoch 54/100\n",
      "17/17 [==============================] - 1s 37ms/step - loss: 0.6529 - accuracy: 0.7769 - val_loss: 0.7281 - val_accuracy: 0.7500\n",
      "Epoch 55/100\n",
      "17/17 [==============================] - 1s 37ms/step - loss: 0.6434 - accuracy: 0.7815 - val_loss: 0.7205 - val_accuracy: 0.7500\n",
      "Epoch 56/100\n",
      "17/17 [==============================] - 1s 37ms/step - loss: 0.6338 - accuracy: 0.7861 - val_loss: 0.7122 - val_accuracy: 0.7500\n",
      "Epoch 57/100\n",
      "17/17 [==============================] - 1s 35ms/step - loss: 0.6243 - accuracy: 0.7861 - val_loss: 0.7024 - val_accuracy: 0.7500\n",
      "Epoch 58/100\n",
      "17/17 [==============================] - 1s 37ms/step - loss: 0.6151 - accuracy: 0.7861 - val_loss: 0.6936 - val_accuracy: 0.7583\n",
      "Epoch 59/100\n",
      "17/17 [==============================] - 1s 36ms/step - loss: 0.6061 - accuracy: 0.7898 - val_loss: 0.6851 - val_accuracy: 0.7583\n",
      "Epoch 60/100\n",
      "17/17 [==============================] - 1s 37ms/step - loss: 0.5977 - accuracy: 0.7917 - val_loss: 0.6771 - val_accuracy: 0.7583\n",
      "Epoch 61/100\n",
      "17/17 [==============================] - 1s 36ms/step - loss: 0.5891 - accuracy: 0.7880 - val_loss: 0.6683 - val_accuracy: 0.7583\n",
      "Epoch 62/100\n",
      "17/17 [==============================] - 1s 36ms/step - loss: 0.5806 - accuracy: 0.7926 - val_loss: 0.6594 - val_accuracy: 0.7667\n",
      "Epoch 63/100\n",
      "17/17 [==============================] - 1s 37ms/step - loss: 0.5722 - accuracy: 0.7981 - val_loss: 0.6538 - val_accuracy: 0.7667\n",
      "Epoch 64/100\n",
      "17/17 [==============================] - 1s 36ms/step - loss: 0.5638 - accuracy: 0.8019 - val_loss: 0.6465 - val_accuracy: 0.7750\n",
      "Epoch 65/100\n",
      "17/17 [==============================] - 1s 36ms/step - loss: 0.5560 - accuracy: 0.8065 - val_loss: 0.6383 - val_accuracy: 0.7833\n",
      "Epoch 66/100\n",
      "17/17 [==============================] - 1s 37ms/step - loss: 0.5481 - accuracy: 0.8093 - val_loss: 0.6293 - val_accuracy: 0.7833\n",
      "Epoch 67/100\n",
      "17/17 [==============================] - 1s 36ms/step - loss: 0.5396 - accuracy: 0.8139 - val_loss: 0.6200 - val_accuracy: 0.7833\n",
      "Epoch 68/100\n",
      "17/17 [==============================] - 1s 37ms/step - loss: 0.5315 - accuracy: 0.8204 - val_loss: 0.6125 - val_accuracy: 0.7917\n",
      "Epoch 69/100\n",
      "17/17 [==============================] - 1s 42ms/step - loss: 0.5238 - accuracy: 0.8250 - val_loss: 0.6053 - val_accuracy: 0.7750\n",
      "Epoch 70/100\n",
      "17/17 [==============================] - 1s 37ms/step - loss: 0.5165 - accuracy: 0.8333 - val_loss: 0.5982 - val_accuracy: 0.7750\n",
      "Epoch 71/100\n",
      "17/17 [==============================] - 1s 38ms/step - loss: 0.5094 - accuracy: 0.8333 - val_loss: 0.5905 - val_accuracy: 0.7750\n",
      "Epoch 72/100\n",
      "17/17 [==============================] - 1s 36ms/step - loss: 0.5022 - accuracy: 0.8352 - val_loss: 0.5849 - val_accuracy: 0.7667\n",
      "Epoch 73/100\n",
      "17/17 [==============================] - 1s 36ms/step - loss: 0.4956 - accuracy: 0.8389 - val_loss: 0.5793 - val_accuracy: 0.7750\n",
      "Epoch 74/100\n",
      "17/17 [==============================] - 1s 36ms/step - loss: 0.4889 - accuracy: 0.8426 - val_loss: 0.5733 - val_accuracy: 0.7750\n",
      "Epoch 75/100\n",
      "17/17 [==============================] - 1s 37ms/step - loss: 0.4823 - accuracy: 0.8472 - val_loss: 0.5677 - val_accuracy: 0.7833\n",
      "Epoch 76/100\n",
      "17/17 [==============================] - 1s 37ms/step - loss: 0.4760 - accuracy: 0.8481 - val_loss: 0.5616 - val_accuracy: 0.7833\n",
      "Epoch 77/100\n",
      "17/17 [==============================] - 1s 36ms/step - loss: 0.4698 - accuracy: 0.8519 - val_loss: 0.5557 - val_accuracy: 0.7833\n",
      "Epoch 78/100\n",
      "17/17 [==============================] - 1s 37ms/step - loss: 0.4641 - accuracy: 0.8509 - val_loss: 0.5494 - val_accuracy: 0.7917\n",
      "Epoch 79/100\n",
      "17/17 [==============================] - 1s 35ms/step - loss: 0.4582 - accuracy: 0.8519 - val_loss: 0.5457 - val_accuracy: 0.8000\n",
      "Epoch 80/100\n",
      "17/17 [==============================] - 1s 36ms/step - loss: 0.4523 - accuracy: 0.8537 - val_loss: 0.5404 - val_accuracy: 0.8000\n",
      "Epoch 81/100\n",
      "17/17 [==============================] - 1s 36ms/step - loss: 0.4469 - accuracy: 0.8537 - val_loss: 0.5351 - val_accuracy: 0.8083\n",
      "Epoch 82/100\n",
      "17/17 [==============================] - 1s 36ms/step - loss: 0.4413 - accuracy: 0.8602 - val_loss: 0.5309 - val_accuracy: 0.8000\n",
      "Epoch 83/100\n",
      "17/17 [==============================] - 1s 37ms/step - loss: 0.4362 - accuracy: 0.8602 - val_loss: 0.5270 - val_accuracy: 0.8083\n",
      "Epoch 84/100\n",
      "17/17 [==============================] - 1s 36ms/step - loss: 0.4308 - accuracy: 0.8611 - val_loss: 0.5234 - val_accuracy: 0.8083\n",
      "Epoch 85/100\n",
      "17/17 [==============================] - 1s 37ms/step - loss: 0.4257 - accuracy: 0.8630 - val_loss: 0.5205 - val_accuracy: 0.8083\n",
      "Epoch 86/100\n",
      "17/17 [==============================] - 1s 37ms/step - loss: 0.4208 - accuracy: 0.8648 - val_loss: 0.5184 - val_accuracy: 0.8083\n",
      "Epoch 87/100\n",
      "17/17 [==============================] - 1s 37ms/step - loss: 0.4164 - accuracy: 0.8657 - val_loss: 0.5153 - val_accuracy: 0.8083\n",
      "Epoch 88/100\n",
      "17/17 [==============================] - 1s 36ms/step - loss: 0.4115 - accuracy: 0.8685 - val_loss: 0.5122 - val_accuracy: 0.8083\n",
      "Epoch 89/100\n",
      "17/17 [==============================] - 1s 36ms/step - loss: 0.4071 - accuracy: 0.8750 - val_loss: 0.5099 - val_accuracy: 0.8083\n",
      "Epoch 90/100\n",
      "17/17 [==============================] - 1s 37ms/step - loss: 0.4027 - accuracy: 0.8759 - val_loss: 0.5071 - val_accuracy: 0.8083\n",
      "Epoch 91/100\n",
      "17/17 [==============================] - 1s 36ms/step - loss: 0.3982 - accuracy: 0.8769 - val_loss: 0.5046 - val_accuracy: 0.8083\n",
      "Epoch 92/100\n",
      "17/17 [==============================] - 1s 36ms/step - loss: 0.3939 - accuracy: 0.8778 - val_loss: 0.5034 - val_accuracy: 0.8167\n",
      "Epoch 93/100\n",
      "17/17 [==============================] - 1s 37ms/step - loss: 0.3897 - accuracy: 0.8824 - val_loss: 0.5007 - val_accuracy: 0.8167\n",
      "Epoch 94/100\n",
      "17/17 [==============================] - 1s 35ms/step - loss: 0.3857 - accuracy: 0.8833 - val_loss: 0.4979 - val_accuracy: 0.8250\n",
      "Epoch 95/100\n",
      "17/17 [==============================] - 1s 38ms/step - loss: 0.3816 - accuracy: 0.8833 - val_loss: 0.4960 - val_accuracy: 0.8250\n",
      "Epoch 96/100\n",
      "17/17 [==============================] - 1s 41ms/step - loss: 0.3777 - accuracy: 0.8852 - val_loss: 0.4931 - val_accuracy: 0.8250\n",
      "Epoch 97/100\n",
      "17/17 [==============================] - 1s 36ms/step - loss: 0.3739 - accuracy: 0.8861 - val_loss: 0.4917 - val_accuracy: 0.8250\n",
      "Epoch 98/100\n",
      "17/17 [==============================] - 1s 36ms/step - loss: 0.3702 - accuracy: 0.8889 - val_loss: 0.4894 - val_accuracy: 0.8250\n",
      "Epoch 99/100\n",
      "17/17 [==============================] - 1s 37ms/step - loss: 0.3665 - accuracy: 0.8898 - val_loss: 0.4874 - val_accuracy: 0.8250\n",
      "Epoch 100/100\n",
      "17/17 [==============================] - 1s 36ms/step - loss: 0.3628 - accuracy: 0.8917 - val_loss: 0.4862 - val_accuracy: 0.8250\n"
     ]
    }
   ],
   "source": [
    "train_dataset = tf.data.Dataset.from_tensor_slices((X_train, Y_train)).batch(64)\n",
    "test_dataset = tf.data.Dataset.from_tensor_slices((X_test, Y_test)).batch(64)\n",
    "history = conv_model.fit(train_dataset, epochs=100, validation_data=test_dataset)"
   ]
  },
  {
   "cell_type": "markdown",
   "metadata": {},
   "source": [
    "<a name='5'></a>\n",
    "## 5 - History Object \n",
    "\n",
    "The history object is an output of the `.fit()` operation, and provides a record of all the loss and metric values in memory. It's stored as a dictionary that you can retrieve at `history.history`: "
   ]
  },
  {
   "cell_type": "code",
   "execution_count": 18,
   "metadata": {},
   "outputs": [
    {
     "data": {
      "text/plain": [
       "{'loss': [1.8092398643493652,\n",
       "  1.7880662679672241,\n",
       "  1.7835453748703003,\n",
       "  1.779354453086853,\n",
       "  1.775223731994629,\n",
       "  1.769803524017334,\n",
       "  1.7630984783172607,\n",
       "  1.754238486289978,\n",
       "  1.7428069114685059,\n",
       "  1.7273098230361938,\n",
       "  1.7068965435028076,\n",
       "  1.6818712949752808,\n",
       "  1.652059555053711,\n",
       "  1.616645336151123,\n",
       "  1.5768804550170898,\n",
       "  1.5324057340621948,\n",
       "  1.4868295192718506,\n",
       "  1.4389410018920898,\n",
       "  1.3889989852905273,\n",
       "  1.340437412261963,\n",
       "  1.2941539287567139,\n",
       "  1.2501473426818848,\n",
       "  1.2072503566741943,\n",
       "  1.1686383485794067,\n",
       "  1.13234543800354,\n",
       "  1.0983586311340332,\n",
       "  1.0668038129806519,\n",
       "  1.0377941131591797,\n",
       "  1.010308027267456,\n",
       "  0.985201895236969,\n",
       "  0.9615315794944763,\n",
       "  0.9392010569572449,\n",
       "  0.9181476831436157,\n",
       "  0.8982959985733032,\n",
       "  0.8800058960914612,\n",
       "  0.8625767827033997,\n",
       "  0.8461410999298096,\n",
       "  0.8308619856834412,\n",
       "  0.8159570097923279,\n",
       "  0.801929771900177,\n",
       "  0.7888520956039429,\n",
       "  0.7760847210884094,\n",
       "  0.7641873359680176,\n",
       "  0.7523821592330933,\n",
       "  0.7412589192390442,\n",
       "  0.7301301956176758,\n",
       "  0.7199143767356873,\n",
       "  0.7095580101013184,\n",
       "  0.6995329260826111,\n",
       "  0.6902162432670593,\n",
       "  0.6809940934181213,\n",
       "  0.6718314290046692,\n",
       "  0.6625116467475891,\n",
       "  0.6528904438018799,\n",
       "  0.6433902978897095,\n",
       "  0.6338387131690979,\n",
       "  0.6242645978927612,\n",
       "  0.615123987197876,\n",
       "  0.6061398983001709,\n",
       "  0.5977221727371216,\n",
       "  0.5891019105911255,\n",
       "  0.5806094408035278,\n",
       "  0.5722364783287048,\n",
       "  0.5638498663902283,\n",
       "  0.5560388565063477,\n",
       "  0.5480698943138123,\n",
       "  0.5395729541778564,\n",
       "  0.5314555168151855,\n",
       "  0.5237905979156494,\n",
       "  0.5165026187896729,\n",
       "  0.5093746781349182,\n",
       "  0.5021786093711853,\n",
       "  0.4955551028251648,\n",
       "  0.4889165759086609,\n",
       "  0.4823312759399414,\n",
       "  0.47602859139442444,\n",
       "  0.469804048538208,\n",
       "  0.46408581733703613,\n",
       "  0.4582383334636688,\n",
       "  0.45233476161956787,\n",
       "  0.4469106197357178,\n",
       "  0.44127801060676575,\n",
       "  0.4361633360385895,\n",
       "  0.4307933449745178,\n",
       "  0.425728440284729,\n",
       "  0.4208066463470459,\n",
       "  0.41639184951782227,\n",
       "  0.41148072481155396,\n",
       "  0.4070962369441986,\n",
       "  0.4027453660964966,\n",
       "  0.3981929421424866,\n",
       "  0.39392268657684326,\n",
       "  0.3896932899951935,\n",
       "  0.3857240378856659,\n",
       "  0.38161349296569824,\n",
       "  0.3776971697807312,\n",
       "  0.3738788664340973,\n",
       "  0.3701847791671753,\n",
       "  0.3665081858634949,\n",
       "  0.3628293573856354],\n",
       " 'accuracy': [0.17685185372829437,\n",
       "  0.18888889253139496,\n",
       "  0.2212962955236435,\n",
       "  0.22870369255542755,\n",
       "  0.2518518567085266,\n",
       "  0.31296294927597046,\n",
       "  0.3574073910713196,\n",
       "  0.3888888955116272,\n",
       "  0.4203703701496124,\n",
       "  0.44722220301628113,\n",
       "  0.4574073851108551,\n",
       "  0.46574074029922485,\n",
       "  0.489814817905426,\n",
       "  0.4990740716457367,\n",
       "  0.5129629373550415,\n",
       "  0.520370364189148,\n",
       "  0.5351851582527161,\n",
       "  0.5444444417953491,\n",
       "  0.555555522441864,\n",
       "  0.5703703761100769,\n",
       "  0.5879629254341125,\n",
       "  0.6037036776542664,\n",
       "  0.6203703880310059,\n",
       "  0.6287037134170532,\n",
       "  0.6425926089286804,\n",
       "  0.6537036895751953,\n",
       "  0.6611111164093018,\n",
       "  0.6629629731178284,\n",
       "  0.6666666269302368,\n",
       "  0.6768518686294556,\n",
       "  0.6861110925674438,\n",
       "  0.6944444179534912,\n",
       "  0.699999988079071,\n",
       "  0.7046296000480652,\n",
       "  0.7092592716217041,\n",
       "  0.7166666388511658,\n",
       "  0.7185184955596924,\n",
       "  0.7185184955596924,\n",
       "  0.7222222089767456,\n",
       "  0.729629635810852,\n",
       "  0.7342592477798462,\n",
       "  0.7388888597488403,\n",
       "  0.7435185313224792,\n",
       "  0.7462962865829468,\n",
       "  0.7518518567085266,\n",
       "  0.7537037134170532,\n",
       "  0.7546296119689941,\n",
       "  0.7537037134170532,\n",
       "  0.7555555701255798,\n",
       "  0.7620370388031006,\n",
       "  0.7648147940635681,\n",
       "  0.7694444060325623,\n",
       "  0.7731481194496155,\n",
       "  0.7768518328666687,\n",
       "  0.7814814448356628,\n",
       "  0.7861111164093018,\n",
       "  0.7861111164093018,\n",
       "  0.7861111164093018,\n",
       "  0.789814829826355,\n",
       "  0.7916666269302368,\n",
       "  0.7879629731178284,\n",
       "  0.7925925850868225,\n",
       "  0.7981481552124023,\n",
       "  0.8018518090248108,\n",
       "  0.8064814805984497,\n",
       "  0.8092592358589172,\n",
       "  0.8138888478279114,\n",
       "  0.8203703761100769,\n",
       "  0.824999988079071,\n",
       "  0.8333333134651184,\n",
       "  0.8333333134651184,\n",
       "  0.835185170173645,\n",
       "  0.8388888835906982,\n",
       "  0.8425925970077515,\n",
       "  0.8472222089767456,\n",
       "  0.8481481075286865,\n",
       "  0.8518518209457397,\n",
       "  0.8509259223937988,\n",
       "  0.8518518209457397,\n",
       "  0.8537036776542664,\n",
       "  0.8537036776542664,\n",
       "  0.8601851463317871,\n",
       "  0.8601851463317871,\n",
       "  0.8611111044883728,\n",
       "  0.8629629611968994,\n",
       "  0.864814817905426,\n",
       "  0.8657407164573669,\n",
       "  0.8685185313224792,\n",
       "  0.875,\n",
       "  0.8759258985519409,\n",
       "  0.8768518567085266,\n",
       "  0.8777777552604675,\n",
       "  0.8824073672294617,\n",
       "  0.8833333253860474,\n",
       "  0.8833333253860474,\n",
       "  0.885185182094574,\n",
       "  0.8861110806465149,\n",
       "  0.8888888955116272,\n",
       "  0.8898147940635681,\n",
       "  0.8916666507720947],\n",
       " 'val_loss': [1.7921870946884155,\n",
       "  1.7883329391479492,\n",
       "  1.7843670845031738,\n",
       "  1.7810869216918945,\n",
       "  1.7771881818771362,\n",
       "  1.7712322473526,\n",
       "  1.764285683631897,\n",
       "  1.754961609840393,\n",
       "  1.7419360876083374,\n",
       "  1.7238775491714478,\n",
       "  1.7018941640853882,\n",
       "  1.6748312711715698,\n",
       "  1.642660140991211,\n",
       "  1.605963945388794,\n",
       "  1.565706729888916,\n",
       "  1.5222402811050415,\n",
       "  1.4781475067138672,\n",
       "  1.431545615196228,\n",
       "  1.382928490638733,\n",
       "  1.3380974531173706,\n",
       "  1.2933112382888794,\n",
       "  1.2534668445587158,\n",
       "  1.214448094367981,\n",
       "  1.179437518119812,\n",
       "  1.145595669746399,\n",
       "  1.1142117977142334,\n",
       "  1.0849988460540771,\n",
       "  1.058882474899292,\n",
       "  1.0330547094345093,\n",
       "  1.0108963251113892,\n",
       "  0.9894487261772156,\n",
       "  0.9687342643737793,\n",
       "  0.9501237273216248,\n",
       "  0.9317973256111145,\n",
       "  0.9156180620193481,\n",
       "  0.898736834526062,\n",
       "  0.8840430378913879,\n",
       "  0.870073676109314,\n",
       "  0.8568839430809021,\n",
       "  0.8440611958503723,\n",
       "  0.8319098353385925,\n",
       "  0.8204160332679749,\n",
       "  0.8098579049110413,\n",
       "  0.7995961904525757,\n",
       "  0.7902917861938477,\n",
       "  0.7810009121894836,\n",
       "  0.772913932800293,\n",
       "  0.7649187445640564,\n",
       "  0.7568693161010742,\n",
       "  0.7493182420730591,\n",
       "  0.742081880569458,\n",
       "  0.7359650135040283,\n",
       "  0.7304672598838806,\n",
       "  0.7280815243721008,\n",
       "  0.7204524278640747,\n",
       "  0.7121856212615967,\n",
       "  0.7023919820785522,\n",
       "  0.6935741901397705,\n",
       "  0.6850563287734985,\n",
       "  0.6770594716072083,\n",
       "  0.668342649936676,\n",
       "  0.6594316959381104,\n",
       "  0.6537500023841858,\n",
       "  0.6465181708335876,\n",
       "  0.638282835483551,\n",
       "  0.6293376684188843,\n",
       "  0.6199639439582825,\n",
       "  0.6124784350395203,\n",
       "  0.6052901148796082,\n",
       "  0.5982487201690674,\n",
       "  0.5905457139015198,\n",
       "  0.584869921207428,\n",
       "  0.579251229763031,\n",
       "  0.5732533931732178,\n",
       "  0.5677069425582886,\n",
       "  0.5616108775138855,\n",
       "  0.5557456016540527,\n",
       "  0.5494383573532104,\n",
       "  0.5457305908203125,\n",
       "  0.540360689163208,\n",
       "  0.5351268649101257,\n",
       "  0.5309168100357056,\n",
       "  0.5269889831542969,\n",
       "  0.5233848094940186,\n",
       "  0.520544707775116,\n",
       "  0.5184447765350342,\n",
       "  0.5153124928474426,\n",
       "  0.5122135877609253,\n",
       "  0.5098533034324646,\n",
       "  0.50705885887146,\n",
       "  0.5046447515487671,\n",
       "  0.5033749341964722,\n",
       "  0.5006911754608154,\n",
       "  0.497905969619751,\n",
       "  0.4959704279899597,\n",
       "  0.4931487739086151,\n",
       "  0.4917469322681427,\n",
       "  0.48938944935798645,\n",
       "  0.48741939663887024,\n",
       "  0.48617786169052124],\n",
       " 'val_accuracy': [0.19166667759418488,\n",
       "  0.19166667759418488,\n",
       "  0.2666666805744171,\n",
       "  0.2666666805744171,\n",
       "  0.31666669249534607,\n",
       "  0.3333333432674408,\n",
       "  0.3750000298023224,\n",
       "  0.40833336114883423,\n",
       "  0.4333333671092987,\n",
       "  0.4166666865348816,\n",
       "  0.40833336114883423,\n",
       "  0.42500001192092896,\n",
       "  0.4583333432674408,\n",
       "  0.491666704416275,\n",
       "  0.5,\n",
       "  0.5083333849906921,\n",
       "  0.5083333849906921,\n",
       "  0.5583333373069763,\n",
       "  0.5666667222976685,\n",
       "  0.5916666984558105,\n",
       "  0.5916666984558105,\n",
       "  0.6000000238418579,\n",
       "  0.6333333849906921,\n",
       "  0.6583333611488342,\n",
       "  0.6583333611488342,\n",
       "  0.675000011920929,\n",
       "  0.6833333969116211,\n",
       "  0.6916667222976685,\n",
       "  0.675000011920929,\n",
       "  0.675000011920929,\n",
       "  0.6833333969116211,\n",
       "  0.6833333969116211,\n",
       "  0.6916667222976685,\n",
       "  0.7000000476837158,\n",
       "  0.7083333730697632,\n",
       "  0.7083333730697632,\n",
       "  0.7083333730697632,\n",
       "  0.7250000238418579,\n",
       "  0.7250000238418579,\n",
       "  0.7416667342185974,\n",
       "  0.7500000596046448,\n",
       "  0.7500000596046448,\n",
       "  0.7500000596046448,\n",
       "  0.7500000596046448,\n",
       "  0.7416667342185974,\n",
       "  0.7416667342185974,\n",
       "  0.7333333492279053,\n",
       "  0.7333333492279053,\n",
       "  0.7416667342185974,\n",
       "  0.7500000596046448,\n",
       "  0.7500000596046448,\n",
       "  0.7583333849906921,\n",
       "  0.7583333849906921,\n",
       "  0.7500000596046448,\n",
       "  0.7500000596046448,\n",
       "  0.7500000596046448,\n",
       "  0.7500000596046448,\n",
       "  0.7583333849906921,\n",
       "  0.7583333849906921,\n",
       "  0.7583333849906921,\n",
       "  0.7583333849906921,\n",
       "  0.7666667103767395,\n",
       "  0.7666667103767395,\n",
       "  0.7750000357627869,\n",
       "  0.7833333611488342,\n",
       "  0.7833333611488342,\n",
       "  0.7833333611488342,\n",
       "  0.7916666865348816,\n",
       "  0.7750000357627869,\n",
       "  0.7750000357627869,\n",
       "  0.7750000357627869,\n",
       "  0.7666667103767395,\n",
       "  0.7750000357627869,\n",
       "  0.7750000357627869,\n",
       "  0.7833333611488342,\n",
       "  0.7833333611488342,\n",
       "  0.7833333611488342,\n",
       "  0.7916666865348816,\n",
       "  0.8000000715255737,\n",
       "  0.8000000715255737,\n",
       "  0.8083333969116211,\n",
       "  0.8000000715255737,\n",
       "  0.8083333969116211,\n",
       "  0.8083333969116211,\n",
       "  0.8083333969116211,\n",
       "  0.8083333969116211,\n",
       "  0.8083333969116211,\n",
       "  0.8083333969116211,\n",
       "  0.8083333969116211,\n",
       "  0.8083333969116211,\n",
       "  0.8083333969116211,\n",
       "  0.8166667222976685,\n",
       "  0.8166667222976685,\n",
       "  0.8250000476837158,\n",
       "  0.8250000476837158,\n",
       "  0.8250000476837158,\n",
       "  0.8250000476837158,\n",
       "  0.8250000476837158,\n",
       "  0.8250000476837158,\n",
       "  0.8250000476837158]}"
      ]
     },
     "execution_count": 18,
     "metadata": {},
     "output_type": "execute_result"
    }
   ],
   "source": [
    "history.history"
   ]
  },
  {
   "cell_type": "markdown",
   "metadata": {},
   "source": [
    "Now visualize the loss over time using `history.history`: "
   ]
  },
  {
   "cell_type": "code",
   "execution_count": 19,
   "metadata": {},
   "outputs": [
    {
     "name": "stderr",
     "output_type": "stream",
     "text": [
      "/var/folders/2s/x1r3gsqj0y14ztflmlggyqzm0000gn/T/ipykernel_52902/973814028.py:5: SettingWithCopyWarning: \n",
      "A value is trying to be set on a copy of a slice from a DataFrame\n",
      "\n",
      "See the caveats in the documentation: https://pandas.pydata.org/pandas-docs/stable/user_guide/indexing.html#returning-a-view-versus-a-copy\n",
      "  df_loss.rename(columns={'loss':'train','val_loss':'validation'},inplace=True)\n",
      "/var/folders/2s/x1r3gsqj0y14ztflmlggyqzm0000gn/T/ipykernel_52902/973814028.py:7: SettingWithCopyWarning: \n",
      "A value is trying to be set on a copy of a slice from a DataFrame\n",
      "\n",
      "See the caveats in the documentation: https://pandas.pydata.org/pandas-docs/stable/user_guide/indexing.html#returning-a-view-versus-a-copy\n",
      "  df_acc.rename(columns={'accuracy':'train','val_accuracy':'validation'},inplace=True)\n"
     ]
    },
    {
     "data": {
      "text/plain": [
       "[Text(0.5, 0, 'Epoch'), Text(0, 0.5, 'Accuracy')]"
      ]
     },
     "execution_count": 19,
     "metadata": {},
     "output_type": "execute_result"
    },
    {
     "data": {
      "image/png": "[encoded data removed]",
      "text/plain": [
       "<Figure size 864x576 with 1 Axes>"
      ]
     },
     "metadata": {
      "needs_background": "light"
     },
     "output_type": "display_data"
    },
    {
     "data": {
      "image/png": "[encoded data removed]",
      "text/plain": [
       "<Figure size 864x576 with 1 Axes>"
      ]
     },
     "metadata": {
      "needs_background": "light"
     },
     "output_type": "display_data"
    }
   ],
   "source": [
    "# The history.history[\"loss\"] entry is a dictionary with as many values as epochs that the\n",
    "# model was trained on. \n",
    "df_loss_acc = pd.DataFrame(history.history)\n",
    "df_loss= df_loss_acc[['loss','val_loss']]\n",
    "df_loss.rename(columns={'loss':'train','val_loss':'validation'},inplace=True)\n",
    "df_acc= df_loss_acc[['accuracy','val_accuracy']]\n",
    "df_acc.rename(columns={'accuracy':'train','val_accuracy':'validation'},inplace=True)\n",
    "df_loss.plot(title='Model loss',figsize=(12,8)).set(xlabel='Epoch',ylabel='Loss')\n",
    "df_acc.plot(title='Model Accuracy',figsize=(12,8)).set(xlabel='Epoch',ylabel='Accuracy')"
   ]
  },
  {
   "cell_type": "markdown",
   "metadata": {},
   "source": [
    "**Congratulations**! You've finished the assignment and built two models: One that recognizes  smiles, and another that recognizes SIGN language with almost 80% accuracy on the test set. In addition to that, you now also understand the applications of two Keras APIs: Sequential and Functional. Nicely done! \n",
    "\n",
    "By now, you know a bit about how the Functional API works and may have glimpsed the possibilities. In your next assignment, you'll really get a feel for its power when you get the opportunity to build a very deep ConvNet, using ResNets! "
   ]
  },
  {
   "cell_type": "markdown",
   "metadata": {},
   "source": [
    "<a name='6'></a>\n",
    "## 6 - Bibliography\n",
    "\n",
    "You're always encouraged to read the official documentation. To that end, you can find the docs for the Sequential and Functional APIs here: \n",
    "\n",
    "https://www.tensorflow.org/guide/keras/sequential_model\n",
    "\n",
    "https://www.tensorflow.org/guide/keras/functional"
   ]
  }
 ],
 "metadata": {
  "coursera": {
   "course_slug": "convolutional-neural-networks",
   "graded_item_id": "bwbJV",
   "launcher_item_id": "0TkXB"
  },
  "kernelspec": {
   "display_name": "Python 3",
   "language": "python",
   "name": "python3"
  },
  "language_info": {
   "codemirror_mode": {
    "name": "ipython",
    "version": 3
   },
   "file_extension": ".py",
   "mimetype": "text/x-python",
   "name": "python",
   "nbconvert_exporter": "python",
   "pygments_lexer": "ipython3",
   "version": "3.9.10"
  }
 },
 "nbformat": 4,
 "nbformat_minor": 2
}
